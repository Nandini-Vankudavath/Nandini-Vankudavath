{
 "cells": [
  {
   "cell_type": "code",
   "execution_count": 1,
   "id": "04b069f8-2649-4ee7-a2d7-40bcc04efe6d",
   "metadata": {},
   "outputs": [
    {
     "name": "stdout",
     "output_type": "stream",
     "text": [
      "Hello,World!\n"
     ]
    }
   ],
   "source": [
    "print(\"Hello,World!\")"
   ]
  },
  {
   "cell_type": "code",
   "execution_count": 2,
   "id": "979e7cc5-cd42-45da-8f72-0968f2ce1af2",
   "metadata": {},
   "outputs": [
    {
     "data": {
      "text/plain": [
       "int"
      ]
     },
     "execution_count": 2,
     "metadata": {},
     "output_type": "execute_result"
    }
   ],
   "source": [
    "type(2345)"
   ]
  },
  {
   "cell_type": "code",
   "execution_count": 3,
   "id": "6c4ae6f8-4cd2-4975-89c4-fbc61caf7d60",
   "metadata": {},
   "outputs": [
    {
     "data": {
      "text/plain": [
       "float"
      ]
     },
     "execution_count": 3,
     "metadata": {},
     "output_type": "execute_result"
    }
   ],
   "source": [
    "type(23.90)"
   ]
  },
  {
   "cell_type": "code",
   "execution_count": 4,
   "id": "17a2442d-4c7a-48c2-b101-849d3869f191",
   "metadata": {},
   "outputs": [
    {
     "data": {
      "text/plain": [
       "str"
      ]
     },
     "execution_count": 4,
     "metadata": {},
     "output_type": "execute_result"
    }
   ],
   "source": [
    "type(\"nandini\")"
   ]
  },
  {
   "cell_type": "code",
   "execution_count": 5,
   "id": "4d2cad86-9c9c-476f-834b-4c91e2c9c76a",
   "metadata": {},
   "outputs": [
    {
     "data": {
      "text/plain": [
       "int"
      ]
     },
     "execution_count": 5,
     "metadata": {},
     "output_type": "execute_result"
    }
   ],
   "source": [
    "type(1)"
   ]
  },
  {
   "cell_type": "code",
   "execution_count": 6,
   "id": "85b6a0e5-a03a-484b-b545-0a26b40ae671",
   "metadata": {},
   "outputs": [
    {
     "data": {
      "text/plain": [
       "bool"
      ]
     },
     "execution_count": 6,
     "metadata": {},
     "output_type": "execute_result"
    }
   ],
   "source": [
    "type(True)"
   ]
  },
  {
   "cell_type": "code",
   "execution_count": 10,
   "id": "6120eac8-dfcd-4274-b9fe-5d5f56104819",
   "metadata": {},
   "outputs": [
    {
     "data": {
      "text/plain": [
       "346"
      ]
     },
     "execution_count": 10,
     "metadata": {},
     "output_type": "execute_result"
    }
   ],
   "source": [
    "## type casting\n",
    "int(346.90)"
   ]
  },
  {
   "cell_type": "code",
   "execution_count": 11,
   "id": "9d8f4ee1-9e77-47f1-b07c-1dc2bbccb700",
   "metadata": {},
   "outputs": [
    {
     "data": {
      "text/plain": [
       "35.0"
      ]
     },
     "execution_count": 11,
     "metadata": {},
     "output_type": "execute_result"
    }
   ],
   "source": [
    "float(35)"
   ]
  },
  {
   "cell_type": "code",
   "execution_count": 12,
   "id": "7bec8bcf-e69f-476c-b6b6-d97e88d18160",
   "metadata": {},
   "outputs": [
    {
     "data": {
      "text/plain": [
       "'12'"
      ]
     },
     "execution_count": 12,
     "metadata": {},
     "output_type": "execute_result"
    }
   ],
   "source": [
    "str(12)"
   ]
  },
  {
   "cell_type": "code",
   "execution_count": 13,
   "id": "a5239290-19b4-4fb6-80ff-d467785bc187",
   "metadata": {},
   "outputs": [
    {
     "data": {
      "text/plain": [
       "True"
      ]
     },
     "execution_count": 13,
     "metadata": {},
     "output_type": "execute_result"
    }
   ],
   "source": [
    "bool(1)"
   ]
  },
  {
   "cell_type": "code",
   "execution_count": 14,
   "id": "ad58382f-c84f-4078-b1e0-e755e5b78e08",
   "metadata": {},
   "outputs": [
    {
     "data": {
      "text/plain": [
       "False"
      ]
     },
     "execution_count": 14,
     "metadata": {},
     "output_type": "execute_result"
    }
   ],
   "source": [
    "bool(0)"
   ]
  },
  {
   "cell_type": "code",
   "execution_count": 15,
   "id": "354a6797-3376-481c-9a26-a0af42344262",
   "metadata": {},
   "outputs": [
    {
     "ename": "NameError",
     "evalue": "name 'A' is not defined",
     "output_type": "error",
     "traceback": [
      "\u001b[1;31m---------------------------------------------------------------------------\u001b[0m",
      "\u001b[1;31mNameError\u001b[0m                                 Traceback (most recent call last)",
      "Cell \u001b[1;32mIn[15], line 1\u001b[0m\n\u001b[1;32m----> 1\u001b[0m \u001b[38;5;28mint\u001b[39m(\u001b[43mA\u001b[49m)\n",
      "\u001b[1;31mNameError\u001b[0m: name 'A' is not defined"
     ]
    }
   ],
   "source": [
    "int(A)"
   ]
  },
  {
   "cell_type": "code",
   "execution_count": 19,
   "id": "0eed3a3b-83f1-4c57-8f51-9aa461f3ca84",
   "metadata": {},
   "outputs": [
    {
     "data": {
      "text/plain": [
       "345"
      ]
     },
     "execution_count": 19,
     "metadata": {},
     "output_type": "execute_result"
    }
   ],
   "source": [
    "int('345')"
   ]
  },
  {
   "cell_type": "code",
   "execution_count": 20,
   "id": "5e2a8ae4-98fb-467d-aa5c-cab2fc87d332",
   "metadata": {},
   "outputs": [
    {
     "data": {
      "text/plain": [
       "float"
      ]
     },
     "execution_count": 20,
     "metadata": {},
     "output_type": "execute_result"
    }
   ],
   "source": [
    "type(6/2)"
   ]
  },
  {
   "cell_type": "code",
   "execution_count": 21,
   "id": "e3b5dcfc-e990-4490-948f-cbbac0d856c7",
   "metadata": {},
   "outputs": [
    {
     "data": {
      "text/plain": [
       "int"
      ]
     },
     "execution_count": 21,
     "metadata": {},
     "output_type": "execute_result"
    }
   ],
   "source": [
    "type(6//2)"
   ]
  },
  {
   "cell_type": "code",
   "execution_count": 22,
   "id": "14ee896c-c4e3-49b1-b9fc-83053f91a452",
   "metadata": {},
   "outputs": [
    {
     "data": {
      "text/plain": [
       "str"
      ]
     },
     "execution_count": 22,
     "metadata": {},
     "output_type": "execute_result"
    }
   ],
   "source": [
    "type(\"Hello,World\")"
   ]
  },
  {
   "cell_type": "code",
   "execution_count": 23,
   "id": "39e01ddf-b7dd-45e2-a1f2-a53c75b14103",
   "metadata": {},
   "outputs": [
    {
     "data": {
      "text/plain": [
       "bool"
      ]
     },
     "execution_count": 23,
     "metadata": {},
     "output_type": "execute_result"
    }
   ],
   "source": [
    "type(\"hello\" == \"world\")"
   ]
  },
  {
   "cell_type": "code",
   "execution_count": 26,
   "id": "2148cdc1-6c87-42fb-bbd9-e0645e8d1ee9",
   "metadata": {},
   "outputs": [
    {
     "data": {
      "text/plain": [
       "1001"
      ]
     },
     "execution_count": 26,
     "metadata": {},
     "output_type": "execute_result"
    }
   ],
   "source": [
    "int(\"1001\")"
   ]
  },
  {
   "cell_type": "code",
   "execution_count": 30,
   "id": "1a732700-2988-484c-9493-cac4a1fe45fb",
   "metadata": {},
   "outputs": [
    {
     "data": {
      "text/plain": [
       "123.56"
      ]
     },
     "execution_count": 30,
     "metadata": {},
     "output_type": "execute_result"
    }
   ],
   "source": [
    "float(\"123.56\")"
   ]
  },
  {
   "cell_type": "code",
   "execution_count": 31,
   "id": "50c49f71-d20b-4c79-b96c-dbe8b50ccbfc",
   "metadata": {},
   "outputs": [
    {
     "data": {
      "text/plain": [
       "'5556'"
      ]
     },
     "execution_count": 31,
     "metadata": {},
     "output_type": "execute_result"
    }
   ],
   "source": [
    "str(12345-6789)"
   ]
  },
  {
   "cell_type": "code",
   "execution_count": 32,
   "id": "a595f7b7-d882-410d-a493-b101f3c4889d",
   "metadata": {},
   "outputs": [
    {
     "data": {
      "text/plain": [
       "'-8223'"
      ]
     },
     "execution_count": 32,
     "metadata": {},
     "output_type": "execute_result"
    }
   ],
   "source": [
    "str(123-456-7890)"
   ]
  },
  {
   "cell_type": "code",
   "execution_count": 1,
   "id": "43a3ffc9-b13c-4199-9c72-552c56e4ebdc",
   "metadata": {},
   "outputs": [
    {
     "name": "stdout",
     "output_type": "stream",
     "text": [
      "hello\n"
     ]
    }
   ],
   "source": [
    "#Strings \n",
    "print(\"hello\")"
   ]
  },
  {
   "cell_type": "code",
   "execution_count": 2,
   "id": "9691483d-a18c-48a3-9a62-d2d5e412c1ed",
   "metadata": {},
   "outputs": [
    {
     "name": "stdout",
     "output_type": "stream",
     "text": [
      "Michael Jackson\n"
     ]
    }
   ],
   "source": [
    "name = \"Michael Jackson\"\n",
    "print(name)"
   ]
  },
  {
   "cell_type": "code",
   "execution_count": 3,
   "id": "1b575a65-389b-48e3-b40d-fa6d9609bd11",
   "metadata": {},
   "outputs": [
    {
     "name": "stdout",
     "output_type": "stream",
     "text": [
      "M\n"
     ]
    }
   ],
   "source": [
    "print(name[0])"
   ]
  },
  {
   "cell_type": "code",
   "execution_count": 4,
   "id": "bf243043-5b57-4b53-917b-57b1b2640993",
   "metadata": {},
   "outputs": [
    {
     "name": "stdout",
     "output_type": "stream",
     "text": [
      "n\n"
     ]
    }
   ],
   "source": [
    "print(name[-1])"
   ]
  },
  {
   "cell_type": "code",
   "execution_count": 8,
   "id": "0538fba3-096c-4d26-91c6-866a44652923",
   "metadata": {},
   "outputs": [
    {
     "name": "stdout",
     "output_type": "stream",
     "text": [
      "e\n"
     ]
    }
   ],
   "source": [
    "print(name[5])"
   ]
  },
  {
   "cell_type": "code",
   "execution_count": 9,
   "id": "f16f540e-f93c-4dc1-a4ac-9d95279c4e79",
   "metadata": {},
   "outputs": [
    {
     "name": "stdout",
     "output_type": "stream",
     "text": [
      " \n"
     ]
    }
   ],
   "source": [
    "print(name[7])"
   ]
  },
  {
   "cell_type": "code",
   "execution_count": 5,
   "id": "9619a2cc-b5e0-4122-a21e-7fc6deb580e5",
   "metadata": {},
   "outputs": [
    {
     "data": {
      "text/plain": [
       "15"
      ]
     },
     "execution_count": 5,
     "metadata": {},
     "output_type": "execute_result"
    }
   ],
   "source": [
    "#length of string\n",
    "len(\"Micheal Jackson\")"
   ]
  },
  {
   "cell_type": "code",
   "execution_count": 7,
   "id": "da336886-a46b-4e86-9730-7a3382d2ea4e",
   "metadata": {},
   "outputs": [
    {
     "data": {
      "text/plain": [
       "'Miche'"
      ]
     },
     "execution_count": 7,
     "metadata": {},
     "output_type": "execute_result"
    }
   ],
   "source": [
    "#Slicing\n",
    "name[0:5]"
   ]
  },
  {
   "cell_type": "code",
   "execution_count": 8,
   "id": "b04b6257-04e1-47b8-aa51-f2452eae62e2",
   "metadata": {},
   "outputs": [
    {
     "data": {
      "text/plain": [
       "'l J'"
      ]
     },
     "execution_count": 8,
     "metadata": {},
     "output_type": "execute_result"
    }
   ],
   "source": [
    "name[6:9]"
   ]
  },
  {
   "cell_type": "code",
   "execution_count": 9,
   "id": "8c2ed9f9-2825-4703-87f4-754a7d177ab1",
   "metadata": {},
   "outputs": [
    {
     "data": {
      "text/plain": [
       "'Mac'"
      ]
     },
     "execution_count": 9,
     "metadata": {},
     "output_type": "execute_result"
    }
   ],
   "source": [
    "#Stride\n",
    "name[0::5]"
   ]
  },
  {
   "cell_type": "code",
   "execution_count": 10,
   "id": "ffbb48e3-2993-4eb4-8751-b6096bd6b656",
   "metadata": {},
   "outputs": [
    {
     "data": {
      "text/plain": [
       "'en'"
      ]
     },
     "execution_count": 10,
     "metadata": {},
     "output_type": "execute_result"
    }
   ],
   "source": [
    "name[4::10]"
   ]
  },
  {
   "cell_type": "code",
   "execution_count": 11,
   "id": "a94aebb1-5f37-402b-ba32-f47cf5a99d71",
   "metadata": {},
   "outputs": [
    {
     "data": {
      "text/plain": [
       "'Mn'"
      ]
     },
     "execution_count": 11,
     "metadata": {},
     "output_type": "execute_result"
    }
   ],
   "source": [
    "name[0::14]"
   ]
  },
  {
   "cell_type": "code",
   "execution_count": 12,
   "id": "5e2ad540-3969-485d-854e-427bfb3fce7b",
   "metadata": {},
   "outputs": [
    {
     "data": {
      "text/plain": [
       "'Mn'"
      ]
     },
     "execution_count": 12,
     "metadata": {},
     "output_type": "execute_result"
    }
   ],
   "source": [
    "name[::14]"
   ]
  },
  {
   "cell_type": "code",
   "execution_count": 13,
   "id": "1892500d-d473-4a52-b5bd-d5821e7d416d",
   "metadata": {},
   "outputs": [
    {
     "data": {
      "text/plain": [
       "'M n'"
      ]
     },
     "execution_count": 13,
     "metadata": {},
     "output_type": "execute_result"
    }
   ],
   "source": [
    "name[::7]"
   ]
  },
  {
   "cell_type": "code",
   "execution_count": 14,
   "id": "7100577b-e45a-4db9-84f9-d2b9900fe4d3",
   "metadata": {},
   "outputs": [
    {
     "data": {
      "text/plain": [
       "'Mce'"
      ]
     },
     "execution_count": 14,
     "metadata": {},
     "output_type": "execute_result"
    }
   ],
   "source": [
    "name[0:5:2]"
   ]
  },
  {
   "cell_type": "code",
   "execution_count": 15,
   "id": "b259729b-a8aa-456d-9036-1054000c91f7",
   "metadata": {},
   "outputs": [
    {
     "data": {
      "text/plain": [
       "'Mcel'"
      ]
     },
     "execution_count": 15,
     "metadata": {},
     "output_type": "execute_result"
    }
   ],
   "source": [
    "name[0:7:2]"
   ]
  },
  {
   "cell_type": "code",
   "execution_count": 20,
   "id": "a8a4b9d2-86c1-4c9d-a670-79ee00278fc6",
   "metadata": {},
   "outputs": [
    {
     "data": {
      "text/plain": [
       "'Micheal Jackson is best'"
      ]
     },
     "execution_count": 20,
     "metadata": {},
     "output_type": "execute_result"
    }
   ],
   "source": [
    "stmt = name + \" is best\"\n",
    "stmt"
   ]
  },
  {
   "cell_type": "code",
   "execution_count": 23,
   "id": "f254fbf6-68ac-4474-a7e8-4b5924b6cad7",
   "metadata": {},
   "outputs": [
    {
     "name": "stdout",
     "output_type": "stream",
     "text": [
      " Micheal Jackson Micheal Jackson Micheal Jackson\n"
     ]
    }
   ],
   "source": [
    "print(3 * \" Micheal Jackson\")"
   ]
  },
  {
   "cell_type": "code",
   "execution_count": 24,
   "id": "639b3df9-3623-4c9c-bd71-0f2de4527413",
   "metadata": {},
   "outputs": [
    {
     "name": "stdout",
     "output_type": "stream",
     "text": [
      " Micheal Jackson Micheal Jackson Micheal Jackson Micheal Jackson Micheal Jackson\n"
     ]
    }
   ],
   "source": [
    "print(5 * \" Micheal Jackson\")"
   ]
  },
  {
   "cell_type": "code",
   "execution_count": 25,
   "id": "90698cfc-53f0-49b5-b2a6-0683ecbeb783",
   "metadata": {},
   "outputs": [
    {
     "name": "stdout",
     "output_type": "stream",
     "text": [
      "Nandini \n",
      " is best\n"
     ]
    }
   ],
   "source": [
    "print(\"Nandini \\n is best\")"
   ]
  },
  {
   "cell_type": "code",
   "execution_count": 26,
   "id": "a93ee6fc-9a40-46e2-94d0-902a2aac5f32",
   "metadata": {},
   "outputs": [
    {
     "name": "stdout",
     "output_type": "stream",
     "text": [
      "Nandini \t is best\n"
     ]
    }
   ],
   "source": [
    "print(\"Nandini \\t is best\")"
   ]
  },
  {
   "cell_type": "code",
   "execution_count": 29,
   "id": "254b8d03-c628-45ab-9ff9-8afc5f081b9c",
   "metadata": {},
   "outputs": [
    {
     "name": "stdout",
     "output_type": "stream",
     "text": [
      "Nandini \\ is best\n"
     ]
    }
   ],
   "source": [
    "print(\"Nandini \\\\ is best\")"
   ]
  },
  {
   "cell_type": "code",
   "execution_count": 30,
   "id": "bafa2b97-ffa0-4777-b077-ac8aef0a35af",
   "metadata": {},
   "outputs": [
    {
     "name": "stdout",
     "output_type": "stream",
     "text": [
      "Nandini \\ is best\n"
     ]
    }
   ],
   "source": [
    "print(r\"Nandini \\ is best\")"
   ]
  },
  {
   "cell_type": "code",
   "execution_count": 33,
   "id": "d307116c-4456-4c69-b2dd-cbf52f0eb762",
   "metadata": {},
   "outputs": [
    {
     "name": "stdout",
     "output_type": "stream",
     "text": [
      "NANDINI IS BEST\n"
     ]
    }
   ],
   "source": [
    "# String methods\n",
    "a = \"Nandini is best\"\n",
    "b = a.upper()\n",
    "print(b)"
   ]
  },
  {
   "cell_type": "code",
   "execution_count": 34,
   "id": "624b67bf-541b-4fe9-9b5b-029e68101c25",
   "metadata": {},
   "outputs": [
    {
     "name": "stdout",
     "output_type": "stream",
     "text": [
      "nandini is best\n"
     ]
    }
   ],
   "source": [
    "b = a.lower()\n",
    "print(b)"
   ]
  },
  {
   "cell_type": "code",
   "execution_count": 36,
   "id": "1f03f2f3-0e7f-4220-a3bd-d66104efab2a",
   "metadata": {},
   "outputs": [
    {
     "name": "stdout",
     "output_type": "stream",
     "text": [
      "janu is best\n"
     ]
    }
   ],
   "source": [
    "b = a.replace('Nandini','janu')\n",
    "print(b)"
   ]
  },
  {
   "cell_type": "code",
   "execution_count": 37,
   "id": "274db056-4dc9-40b9-9afe-2328ae82990f",
   "metadata": {},
   "outputs": [
    {
     "name": "stdout",
     "output_type": "stream",
     "text": [
      "Nandini is best\n"
     ]
    }
   ],
   "source": [
    "b = a.replace('janu','Nandini')\n",
    "print(b)"
   ]
  },
  {
   "cell_type": "code",
   "execution_count": 38,
   "id": "dab9e109-f69c-4163-b4b8-2b39e45ab504",
   "metadata": {},
   "outputs": [
    {
     "name": "stdout",
     "output_type": "stream",
     "text": [
      "4\n"
     ]
    }
   ],
   "source": [
    "b = a.find('ini')\n",
    "print(b)"
   ]
  },
  {
   "cell_type": "code",
   "execution_count": 39,
   "id": "f141e354-47d1-4b7d-a855-5a8f1eb9480d",
   "metadata": {},
   "outputs": [
    {
     "name": "stdout",
     "output_type": "stream",
     "text": [
      "['Nandini', 'is', 'best']\n"
     ]
    }
   ],
   "source": [
    "b = a.split()\n",
    "print(b)"
   ]
  },
  {
   "cell_type": "code",
   "execution_count": 41,
   "id": "cc9fe126-b731-4313-bd4d-5add9a11a8ec",
   "metadata": {},
   "outputs": [
    {
     "name": "stdout",
     "output_type": "stream",
     "text": [
      "1\n"
     ]
    }
   ],
   "source": [
    "a = '1'\n",
    "print(a)"
   ]
  },
  {
   "cell_type": "code",
   "execution_count": 45,
   "id": "c57346e5-03b0-42ad-93b8-447b2a6438d6",
   "metadata": {},
   "outputs": [
    {
     "name": "stdout",
     "output_type": "stream",
     "text": [
      "2\n"
     ]
    }
   ],
   "source": [
    "b =\"2\"\n",
    "print(b)"
   ]
  },
  {
   "cell_type": "code",
   "execution_count": 46,
   "id": "77d6b1bd-5a2b-4221-98cc-5582036049fa",
   "metadata": {},
   "outputs": [
    {
     "name": "stdout",
     "output_type": "stream",
     "text": [
      "12\n"
     ]
    }
   ],
   "source": [
    "c = a+b\n",
    "print(c)"
   ]
  },
  {
   "cell_type": "code",
   "execution_count": 48,
   "id": "b91fcf3d-794c-4d2d-9449-9c771e0b9b68",
   "metadata": {},
   "outputs": [
    {
     "data": {
      "text/plain": [
       "'ABC'"
      ]
     },
     "execution_count": 48,
     "metadata": {},
     "output_type": "execute_result"
    }
   ],
   "source": [
    "d = \"ABCDEFG\"\n",
    "d[0:3]"
   ]
  },
  {
   "cell_type": "code",
   "execution_count": 49,
   "id": "5fb832e1-151b-4ac9-b3b1-9f3fd19bfe2f",
   "metadata": {},
   "outputs": [
    {
     "data": {
      "text/plain": [
       "'ACEG'"
      ]
     },
     "execution_count": 49,
     "metadata": {},
     "output_type": "execute_result"
    }
   ],
   "source": [
    "d[::2]"
   ]
  },
  {
   "cell_type": "code",
   "execution_count": 50,
   "id": "3ea3885d-bd66-4094-8644-c63896e3914f",
   "metadata": {},
   "outputs": [
    {
     "name": "stdout",
     "output_type": "stream",
     "text": [
      "YOU ARE WRONG\n"
     ]
    }
   ],
   "source": [
    "f = \"you are wrong\"\n",
    "print(f.upper())"
   ]
  },
  {
   "cell_type": "code",
   "execution_count": 51,
   "id": "6bac4363-4bf9-4e26-ba6b-4887ea98d60d",
   "metadata": {},
   "outputs": [
    {
     "name": "stdout",
     "output_type": "stream",
     "text": [
      "you are wrong\n"
     ]
    }
   ],
   "source": [
    "print(f.lower())"
   ]
  },
  {
   "cell_type": "code",
   "execution_count": 53,
   "id": "491f4e45-6dce-459a-85b8-af39fb89d2d0",
   "metadata": {},
   "outputs": [
    {
     "name": "stdout",
     "output_type": "stream",
     "text": [
      "95\n"
     ]
    }
   ],
   "source": [
    "g = \"Mary had a little lamb Little lamb, little lamb Mary had a little lamb \\\n",
    "Its fleece was white as snow And everywhere that Mary went Mary went, Mary went \\\n",
    "Everywhere that Mary went The lamb was sure to go\"\n",
    "print( g.find('snow'))"
   ]
  },
  {
   "cell_type": "code",
   "execution_count": 54,
   "id": "f7fc7bc7-22d4-480b-ad02-21a78ebbce2c",
   "metadata": {},
   "outputs": [
    {
     "name": "stdout",
     "output_type": "stream",
     "text": [
      "Bob had a little lamb Little lamb, little lamb Bob had a little lamb Its fleece was white as snow And everywhere that Bob went Bob went, Bob went Everywhere that Bob went The lamb was sure to go\n"
     ]
    }
   ],
   "source": [
    "print(g.replace('Mary','Bob'))"
   ]
  },
  {
   "cell_type": "code",
   "execution_count": 55,
   "id": "3de9a377-5056-44d0-a2a0-2a35be96bd3b",
   "metadata": {},
   "outputs": [
    {
     "name": "stdout",
     "output_type": "stream",
     "text": [
      "['Mary', 'had', 'a', 'little', 'lamb', 'Little', 'lamb,', 'little', 'lamb', 'Mary', 'had', 'a', 'little', 'lamb', 'Its', 'fleece', 'was', 'white', 'as', 'snow', 'And', 'everywhere', 'that', 'Mary', 'went', 'Mary', 'went,', 'Mary', 'went', 'Everywhere', 'that', 'Mary', 'went', 'The', 'lamb', 'was', 'sure', 'to', 'go']\n"
     ]
    }
   ],
   "source": [
    "print(g.split())"
   ]
  },
  {
   "cell_type": "code",
   "execution_count": null,
   "id": "8983aa92-64a1-44bb-b17a-607769c02b7a",
   "metadata": {},
   "outputs": [],
   "source": []
  }
 ],
 "metadata": {
  "kernelspec": {
   "display_name": "Python 3 (ipykernel)",
   "language": "python",
   "name": "python3"
  },
  "language_info": {
   "codemirror_mode": {
    "name": "ipython",
    "version": 3
   },
   "file_extension": ".py",
   "mimetype": "text/x-python",
   "name": "python",
   "nbconvert_exporter": "python",
   "pygments_lexer": "ipython3",
   "version": "3.13.0"
  }
 },
 "nbformat": 4,
 "nbformat_minor": 5
}
